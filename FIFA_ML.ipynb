{
 "cells": [
  {
   "cell_type": "code",
   "execution_count": 1,
   "metadata": {},
   "outputs": [],
   "source": [
    "import numpy as np\n",
    "from matplotlib import pyplot as plt\n",
    "import pandas as pd\n",
    "from sklearn import linear_model\n",
    "from sklearn import model_selection\n",
    "from sklearn import preprocessing\n",
    "from sklearn import metrics\n",
    "from sklearn import svm"
   ]
  },
  {
   "cell_type": "code",
   "execution_count": 2,
   "metadata": {},
   "outputs": [
    {
     "name": "stderr",
     "output_type": "stream",
     "text": [
      "/home/filip/anaconda3/lib/python3.6/site-packages/IPython/core/interactiveshell.py:2728: DtypeWarning: Columns (23,35) have mixed types. Specify dtype option on import or set low_memory=False.\n",
      "  interactivity=interactivity, compiler=compiler, result=result)\n"
     ]
    }
   ],
   "source": [
    "data = pd.read_csv('CompleteDataset.csv')"
   ]
  },
  {
   "cell_type": "code",
   "execution_count": 3,
   "metadata": {},
   "outputs": [
    {
     "data": {
      "text/html": [
       "<div>\n",
       "<style scoped>\n",
       "    .dataframe tbody tr th:only-of-type {\n",
       "        vertical-align: middle;\n",
       "    }\n",
       "\n",
       "    .dataframe tbody tr th {\n",
       "        vertical-align: top;\n",
       "    }\n",
       "\n",
       "    .dataframe thead th {\n",
       "        text-align: right;\n",
       "    }\n",
       "</style>\n",
       "<table border=\"1\" class=\"dataframe\">\n",
       "  <thead>\n",
       "    <tr style=\"text-align: right;\">\n",
       "      <th></th>\n",
       "      <th>Unnamed: 0</th>\n",
       "      <th>Name</th>\n",
       "      <th>Age</th>\n",
       "      <th>Photo</th>\n",
       "      <th>Nationality</th>\n",
       "      <th>Flag</th>\n",
       "      <th>Overall</th>\n",
       "      <th>Potential</th>\n",
       "      <th>Club</th>\n",
       "      <th>Club Logo</th>\n",
       "      <th>...</th>\n",
       "      <th>RB</th>\n",
       "      <th>RCB</th>\n",
       "      <th>RCM</th>\n",
       "      <th>RDM</th>\n",
       "      <th>RF</th>\n",
       "      <th>RM</th>\n",
       "      <th>RS</th>\n",
       "      <th>RW</th>\n",
       "      <th>RWB</th>\n",
       "      <th>ST</th>\n",
       "    </tr>\n",
       "  </thead>\n",
       "  <tbody>\n",
       "    <tr>\n",
       "      <th>0</th>\n",
       "      <td>0</td>\n",
       "      <td>Cristiano Ronaldo</td>\n",
       "      <td>32</td>\n",
       "      <td>https://cdn.sofifa.org/48/18/players/20801.png</td>\n",
       "      <td>Portugal</td>\n",
       "      <td>https://cdn.sofifa.org/flags/38.png</td>\n",
       "      <td>94</td>\n",
       "      <td>94</td>\n",
       "      <td>Real Madrid CF</td>\n",
       "      <td>https://cdn.sofifa.org/24/18/teams/243.png</td>\n",
       "      <td>...</td>\n",
       "      <td>61.0</td>\n",
       "      <td>53.0</td>\n",
       "      <td>82.0</td>\n",
       "      <td>62.0</td>\n",
       "      <td>91.0</td>\n",
       "      <td>89.0</td>\n",
       "      <td>92.0</td>\n",
       "      <td>91.0</td>\n",
       "      <td>66.0</td>\n",
       "      <td>92.0</td>\n",
       "    </tr>\n",
       "    <tr>\n",
       "      <th>1</th>\n",
       "      <td>1</td>\n",
       "      <td>L. Messi</td>\n",
       "      <td>30</td>\n",
       "      <td>https://cdn.sofifa.org/48/18/players/158023.png</td>\n",
       "      <td>Argentina</td>\n",
       "      <td>https://cdn.sofifa.org/flags/52.png</td>\n",
       "      <td>93</td>\n",
       "      <td>93</td>\n",
       "      <td>FC Barcelona</td>\n",
       "      <td>https://cdn.sofifa.org/24/18/teams/241.png</td>\n",
       "      <td>...</td>\n",
       "      <td>57.0</td>\n",
       "      <td>45.0</td>\n",
       "      <td>84.0</td>\n",
       "      <td>59.0</td>\n",
       "      <td>92.0</td>\n",
       "      <td>90.0</td>\n",
       "      <td>88.0</td>\n",
       "      <td>91.0</td>\n",
       "      <td>62.0</td>\n",
       "      <td>88.0</td>\n",
       "    </tr>\n",
       "    <tr>\n",
       "      <th>2</th>\n",
       "      <td>2</td>\n",
       "      <td>Neymar</td>\n",
       "      <td>25</td>\n",
       "      <td>https://cdn.sofifa.org/48/18/players/190871.png</td>\n",
       "      <td>Brazil</td>\n",
       "      <td>https://cdn.sofifa.org/flags/54.png</td>\n",
       "      <td>92</td>\n",
       "      <td>94</td>\n",
       "      <td>Paris Saint-Germain</td>\n",
       "      <td>https://cdn.sofifa.org/24/18/teams/73.png</td>\n",
       "      <td>...</td>\n",
       "      <td>59.0</td>\n",
       "      <td>46.0</td>\n",
       "      <td>79.0</td>\n",
       "      <td>59.0</td>\n",
       "      <td>88.0</td>\n",
       "      <td>87.0</td>\n",
       "      <td>84.0</td>\n",
       "      <td>89.0</td>\n",
       "      <td>64.0</td>\n",
       "      <td>84.0</td>\n",
       "    </tr>\n",
       "    <tr>\n",
       "      <th>3</th>\n",
       "      <td>3</td>\n",
       "      <td>L. Suárez</td>\n",
       "      <td>30</td>\n",
       "      <td>https://cdn.sofifa.org/48/18/players/176580.png</td>\n",
       "      <td>Uruguay</td>\n",
       "      <td>https://cdn.sofifa.org/flags/60.png</td>\n",
       "      <td>92</td>\n",
       "      <td>92</td>\n",
       "      <td>FC Barcelona</td>\n",
       "      <td>https://cdn.sofifa.org/24/18/teams/241.png</td>\n",
       "      <td>...</td>\n",
       "      <td>64.0</td>\n",
       "      <td>58.0</td>\n",
       "      <td>80.0</td>\n",
       "      <td>65.0</td>\n",
       "      <td>88.0</td>\n",
       "      <td>85.0</td>\n",
       "      <td>88.0</td>\n",
       "      <td>87.0</td>\n",
       "      <td>68.0</td>\n",
       "      <td>88.0</td>\n",
       "    </tr>\n",
       "    <tr>\n",
       "      <th>4</th>\n",
       "      <td>4</td>\n",
       "      <td>M. Neuer</td>\n",
       "      <td>31</td>\n",
       "      <td>https://cdn.sofifa.org/48/18/players/167495.png</td>\n",
       "      <td>Germany</td>\n",
       "      <td>https://cdn.sofifa.org/flags/21.png</td>\n",
       "      <td>92</td>\n",
       "      <td>92</td>\n",
       "      <td>FC Bayern Munich</td>\n",
       "      <td>https://cdn.sofifa.org/24/18/teams/21.png</td>\n",
       "      <td>...</td>\n",
       "      <td>NaN</td>\n",
       "      <td>NaN</td>\n",
       "      <td>NaN</td>\n",
       "      <td>NaN</td>\n",
       "      <td>NaN</td>\n",
       "      <td>NaN</td>\n",
       "      <td>NaN</td>\n",
       "      <td>NaN</td>\n",
       "      <td>NaN</td>\n",
       "      <td>NaN</td>\n",
       "    </tr>\n",
       "  </tbody>\n",
       "</table>\n",
       "<p>5 rows × 75 columns</p>\n",
       "</div>"
      ],
      "text/plain": [
       "   Unnamed: 0               Name  Age  \\\n",
       "0           0  Cristiano Ronaldo   32   \n",
       "1           1           L. Messi   30   \n",
       "2           2             Neymar   25   \n",
       "3           3          L. Suárez   30   \n",
       "4           4           M. Neuer   31   \n",
       "\n",
       "                                             Photo Nationality  \\\n",
       "0   https://cdn.sofifa.org/48/18/players/20801.png    Portugal   \n",
       "1  https://cdn.sofifa.org/48/18/players/158023.png   Argentina   \n",
       "2  https://cdn.sofifa.org/48/18/players/190871.png      Brazil   \n",
       "3  https://cdn.sofifa.org/48/18/players/176580.png     Uruguay   \n",
       "4  https://cdn.sofifa.org/48/18/players/167495.png     Germany   \n",
       "\n",
       "                                  Flag  Overall  Potential  \\\n",
       "0  https://cdn.sofifa.org/flags/38.png       94         94   \n",
       "1  https://cdn.sofifa.org/flags/52.png       93         93   \n",
       "2  https://cdn.sofifa.org/flags/54.png       92         94   \n",
       "3  https://cdn.sofifa.org/flags/60.png       92         92   \n",
       "4  https://cdn.sofifa.org/flags/21.png       92         92   \n",
       "\n",
       "                  Club                                   Club Logo  ...   \\\n",
       "0       Real Madrid CF  https://cdn.sofifa.org/24/18/teams/243.png  ...    \n",
       "1         FC Barcelona  https://cdn.sofifa.org/24/18/teams/241.png  ...    \n",
       "2  Paris Saint-Germain   https://cdn.sofifa.org/24/18/teams/73.png  ...    \n",
       "3         FC Barcelona  https://cdn.sofifa.org/24/18/teams/241.png  ...    \n",
       "4     FC Bayern Munich   https://cdn.sofifa.org/24/18/teams/21.png  ...    \n",
       "\n",
       "     RB   RCB   RCM   RDM    RF    RM    RS    RW   RWB    ST  \n",
       "0  61.0  53.0  82.0  62.0  91.0  89.0  92.0  91.0  66.0  92.0  \n",
       "1  57.0  45.0  84.0  59.0  92.0  90.0  88.0  91.0  62.0  88.0  \n",
       "2  59.0  46.0  79.0  59.0  88.0  87.0  84.0  89.0  64.0  84.0  \n",
       "3  64.0  58.0  80.0  65.0  88.0  85.0  88.0  87.0  68.0  88.0  \n",
       "4   NaN   NaN   NaN   NaN   NaN   NaN   NaN   NaN   NaN   NaN  \n",
       "\n",
       "[5 rows x 75 columns]"
      ]
     },
     "execution_count": 3,
     "metadata": {},
     "output_type": "execute_result"
    }
   ],
   "source": [
    "data.head()\n"
   ]
  },
  {
   "cell_type": "code",
   "execution_count": 4,
   "metadata": {},
   "outputs": [
    {
     "data": {
      "text/plain": [
       "Index(['Unnamed: 0', 'Name', 'Age', 'Photo', 'Nationality', 'Flag', 'Overall',\n",
       "       'Potential', 'Club', 'Club Logo', 'Value', 'Wage', 'Special',\n",
       "       'Acceleration', 'Aggression', 'Agility', 'Balance', 'Ball control',\n",
       "       'Composure', 'Crossing', 'Curve', 'Dribbling', 'Finishing',\n",
       "       'Free kick accuracy', 'GK diving', 'GK handling', 'GK kicking',\n",
       "       'GK positioning', 'GK reflexes', 'Heading accuracy', 'Interceptions',\n",
       "       'Jumping', 'Long passing', 'Long shots', 'Marking', 'Penalties',\n",
       "       'Positioning', 'Reactions', 'Short passing', 'Shot power',\n",
       "       'Sliding tackle', 'Sprint speed', 'Stamina', 'Standing tackle',\n",
       "       'Strength', 'Vision', 'Volleys', 'CAM', 'CB', 'CDM', 'CF', 'CM', 'ID',\n",
       "       'LAM', 'LB', 'LCB', 'LCM', 'LDM', 'LF', 'LM', 'LS', 'LW', 'LWB',\n",
       "       'Preferred Positions', 'RAM', 'RB', 'RCB', 'RCM', 'RDM', 'RF', 'RM',\n",
       "       'RS', 'RW', 'RWB', 'ST'],\n",
       "      dtype='object')"
      ]
     },
     "execution_count": 4,
     "metadata": {},
     "output_type": "execute_result"
    }
   ],
   "source": [
    "data.columns"
   ]
  },
  {
   "cell_type": "code",
   "execution_count": 5,
   "metadata": {},
   "outputs": [],
   "source": [
    "#izdvajamo atribute koje cemo koristiti u predvijdanju\n",
    "drop_columns = data.columns[: 13 ]\n",
    "training_data = data.drop(columns=drop_columns)\n",
    "training_data = training_data[[\n",
    "       'Acceleration', 'Aggression', 'Agility', 'Balance', 'Ball control',\n",
    "       'Composure', 'Crossing', 'Curve', 'Dribbling', 'Finishing',\n",
    "       'Free kick accuracy', 'GK diving', 'GK handling', 'GK kicking',\n",
    "       'GK positioning', 'GK reflexes', 'Heading accuracy', 'Interceptions',\n",
    "       'Jumping', 'Long passing', 'Long shots', 'Marking', 'Penalties',\n",
    "       'Positioning', 'Reactions', 'Short passing', 'Shot power',\n",
    "       'Sliding tackle', 'Sprint speed', 'Stamina', 'Standing tackle',\n",
    "       'Strength', 'Vision', 'Volleys', 'Preferred Positions']].astype(str)"
   ]
  },
  {
   "cell_type": "code",
   "execution_count": 6,
   "metadata": {},
   "outputs": [
    {
     "data": {
      "text/plain": [
       "Index(['Acceleration', 'Aggression', 'Agility', 'Balance', 'Ball control',\n",
       "       'Composure', 'Crossing', 'Curve', 'Dribbling', 'Finishing',\n",
       "       'Free kick accuracy', 'GK diving', 'GK handling', 'GK kicking',\n",
       "       'GK positioning', 'GK reflexes', 'Heading accuracy', 'Interceptions',\n",
       "       'Jumping', 'Long passing', 'Long shots', 'Marking', 'Penalties',\n",
       "       'Positioning', 'Reactions', 'Short passing', 'Shot power',\n",
       "       'Sliding tackle', 'Sprint speed', 'Stamina', 'Standing tackle',\n",
       "       'Strength', 'Vision', 'Volleys', 'Preferred Positions'],\n",
       "      dtype='object')"
      ]
     },
     "execution_count": 6,
     "metadata": {},
     "output_type": "execute_result"
    }
   ],
   "source": [
    "training_data.columns\n"
   ]
  },
  {
   "cell_type": "code",
   "execution_count": 7,
   "metadata": {},
   "outputs": [
    {
     "data": {
      "text/html": [
       "<div>\n",
       "<style scoped>\n",
       "    .dataframe tbody tr th:only-of-type {\n",
       "        vertical-align: middle;\n",
       "    }\n",
       "\n",
       "    .dataframe tbody tr th {\n",
       "        vertical-align: top;\n",
       "    }\n",
       "\n",
       "    .dataframe thead th {\n",
       "        text-align: right;\n",
       "    }\n",
       "</style>\n",
       "<table border=\"1\" class=\"dataframe\">\n",
       "  <thead>\n",
       "    <tr style=\"text-align: right;\">\n",
       "      <th></th>\n",
       "      <th>Acceleration</th>\n",
       "      <th>Aggression</th>\n",
       "      <th>Agility</th>\n",
       "      <th>Balance</th>\n",
       "      <th>Ball control</th>\n",
       "      <th>Composure</th>\n",
       "      <th>Crossing</th>\n",
       "      <th>Curve</th>\n",
       "      <th>Dribbling</th>\n",
       "      <th>Finishing</th>\n",
       "      <th>...</th>\n",
       "      <th>Short passing</th>\n",
       "      <th>Shot power</th>\n",
       "      <th>Sliding tackle</th>\n",
       "      <th>Sprint speed</th>\n",
       "      <th>Stamina</th>\n",
       "      <th>Standing tackle</th>\n",
       "      <th>Strength</th>\n",
       "      <th>Vision</th>\n",
       "      <th>Volleys</th>\n",
       "      <th>Preferred Positions</th>\n",
       "    </tr>\n",
       "  </thead>\n",
       "  <tbody>\n",
       "    <tr>\n",
       "      <th>0</th>\n",
       "      <td>89</td>\n",
       "      <td>63</td>\n",
       "      <td>89</td>\n",
       "      <td>63</td>\n",
       "      <td>93</td>\n",
       "      <td>95</td>\n",
       "      <td>85</td>\n",
       "      <td>81</td>\n",
       "      <td>91</td>\n",
       "      <td>94</td>\n",
       "      <td>...</td>\n",
       "      <td>83</td>\n",
       "      <td>94</td>\n",
       "      <td>23</td>\n",
       "      <td>91</td>\n",
       "      <td>92</td>\n",
       "      <td>31</td>\n",
       "      <td>80</td>\n",
       "      <td>85</td>\n",
       "      <td>88</td>\n",
       "      <td>ST LW</td>\n",
       "    </tr>\n",
       "    <tr>\n",
       "      <th>1</th>\n",
       "      <td>92</td>\n",
       "      <td>48</td>\n",
       "      <td>90</td>\n",
       "      <td>95</td>\n",
       "      <td>95</td>\n",
       "      <td>96</td>\n",
       "      <td>77</td>\n",
       "      <td>89</td>\n",
       "      <td>97</td>\n",
       "      <td>95</td>\n",
       "      <td>...</td>\n",
       "      <td>88</td>\n",
       "      <td>85</td>\n",
       "      <td>26</td>\n",
       "      <td>87</td>\n",
       "      <td>73</td>\n",
       "      <td>28</td>\n",
       "      <td>59</td>\n",
       "      <td>90</td>\n",
       "      <td>85</td>\n",
       "      <td>RW</td>\n",
       "    </tr>\n",
       "    <tr>\n",
       "      <th>2</th>\n",
       "      <td>94</td>\n",
       "      <td>56</td>\n",
       "      <td>96</td>\n",
       "      <td>82</td>\n",
       "      <td>95</td>\n",
       "      <td>92</td>\n",
       "      <td>75</td>\n",
       "      <td>81</td>\n",
       "      <td>96</td>\n",
       "      <td>89</td>\n",
       "      <td>...</td>\n",
       "      <td>81</td>\n",
       "      <td>80</td>\n",
       "      <td>33</td>\n",
       "      <td>90</td>\n",
       "      <td>78</td>\n",
       "      <td>24</td>\n",
       "      <td>53</td>\n",
       "      <td>80</td>\n",
       "      <td>83</td>\n",
       "      <td>LW</td>\n",
       "    </tr>\n",
       "    <tr>\n",
       "      <th>3</th>\n",
       "      <td>88</td>\n",
       "      <td>78</td>\n",
       "      <td>86</td>\n",
       "      <td>60</td>\n",
       "      <td>91</td>\n",
       "      <td>83</td>\n",
       "      <td>77</td>\n",
       "      <td>86</td>\n",
       "      <td>86</td>\n",
       "      <td>94</td>\n",
       "      <td>...</td>\n",
       "      <td>83</td>\n",
       "      <td>87</td>\n",
       "      <td>38</td>\n",
       "      <td>77</td>\n",
       "      <td>89</td>\n",
       "      <td>45</td>\n",
       "      <td>80</td>\n",
       "      <td>84</td>\n",
       "      <td>88</td>\n",
       "      <td>ST</td>\n",
       "    </tr>\n",
       "    <tr>\n",
       "      <th>4</th>\n",
       "      <td>58</td>\n",
       "      <td>29</td>\n",
       "      <td>52</td>\n",
       "      <td>35</td>\n",
       "      <td>48</td>\n",
       "      <td>70</td>\n",
       "      <td>15</td>\n",
       "      <td>14</td>\n",
       "      <td>30</td>\n",
       "      <td>13</td>\n",
       "      <td>...</td>\n",
       "      <td>55</td>\n",
       "      <td>25</td>\n",
       "      <td>11</td>\n",
       "      <td>61</td>\n",
       "      <td>44</td>\n",
       "      <td>10</td>\n",
       "      <td>83</td>\n",
       "      <td>70</td>\n",
       "      <td>11</td>\n",
       "      <td>GK</td>\n",
       "    </tr>\n",
       "    <tr>\n",
       "      <th>5</th>\n",
       "      <td>79</td>\n",
       "      <td>80</td>\n",
       "      <td>78</td>\n",
       "      <td>80</td>\n",
       "      <td>89</td>\n",
       "      <td>87</td>\n",
       "      <td>62</td>\n",
       "      <td>77</td>\n",
       "      <td>85</td>\n",
       "      <td>91</td>\n",
       "      <td>...</td>\n",
       "      <td>83</td>\n",
       "      <td>88</td>\n",
       "      <td>19</td>\n",
       "      <td>83</td>\n",
       "      <td>79</td>\n",
       "      <td>42</td>\n",
       "      <td>84</td>\n",
       "      <td>78</td>\n",
       "      <td>87</td>\n",
       "      <td>ST</td>\n",
       "    </tr>\n",
       "    <tr>\n",
       "      <th>6</th>\n",
       "      <td>57</td>\n",
       "      <td>38</td>\n",
       "      <td>60</td>\n",
       "      <td>43</td>\n",
       "      <td>42</td>\n",
       "      <td>64</td>\n",
       "      <td>17</td>\n",
       "      <td>21</td>\n",
       "      <td>18</td>\n",
       "      <td>13</td>\n",
       "      <td>...</td>\n",
       "      <td>50</td>\n",
       "      <td>31</td>\n",
       "      <td>13</td>\n",
       "      <td>58</td>\n",
       "      <td>40</td>\n",
       "      <td>21</td>\n",
       "      <td>64</td>\n",
       "      <td>68</td>\n",
       "      <td>13</td>\n",
       "      <td>GK</td>\n",
       "    </tr>\n",
       "    <tr>\n",
       "      <th>7</th>\n",
       "      <td>93</td>\n",
       "      <td>54</td>\n",
       "      <td>93</td>\n",
       "      <td>91</td>\n",
       "      <td>92</td>\n",
       "      <td>87</td>\n",
       "      <td>80</td>\n",
       "      <td>82</td>\n",
       "      <td>93</td>\n",
       "      <td>83</td>\n",
       "      <td>...</td>\n",
       "      <td>86</td>\n",
       "      <td>79</td>\n",
       "      <td>22</td>\n",
       "      <td>87</td>\n",
       "      <td>79</td>\n",
       "      <td>27</td>\n",
       "      <td>65</td>\n",
       "      <td>86</td>\n",
       "      <td>79</td>\n",
       "      <td>LW</td>\n",
       "    </tr>\n",
       "    <tr>\n",
       "      <th>8</th>\n",
       "      <td>60</td>\n",
       "      <td>60</td>\n",
       "      <td>71</td>\n",
       "      <td>69</td>\n",
       "      <td>89</td>\n",
       "      <td>85</td>\n",
       "      <td>85</td>\n",
       "      <td>85</td>\n",
       "      <td>79</td>\n",
       "      <td>76</td>\n",
       "      <td>...</td>\n",
       "      <td>90</td>\n",
       "      <td>87</td>\n",
       "      <td>69</td>\n",
       "      <td>52</td>\n",
       "      <td>77</td>\n",
       "      <td>82</td>\n",
       "      <td>74</td>\n",
       "      <td>88</td>\n",
       "      <td>82</td>\n",
       "      <td>CDM CM</td>\n",
       "    </tr>\n",
       "    <tr>\n",
       "      <th>9</th>\n",
       "      <td>78</td>\n",
       "      <td>50</td>\n",
       "      <td>75</td>\n",
       "      <td>69</td>\n",
       "      <td>85</td>\n",
       "      <td>86</td>\n",
       "      <td>68</td>\n",
       "      <td>74</td>\n",
       "      <td>84</td>\n",
       "      <td>91</td>\n",
       "      <td>...</td>\n",
       "      <td>75</td>\n",
       "      <td>88</td>\n",
       "      <td>18</td>\n",
       "      <td>80</td>\n",
       "      <td>72</td>\n",
       "      <td>22</td>\n",
       "      <td>85</td>\n",
       "      <td>70</td>\n",
       "      <td>88</td>\n",
       "      <td>ST</td>\n",
       "    </tr>\n",
       "  </tbody>\n",
       "</table>\n",
       "<p>10 rows × 35 columns</p>\n",
       "</div>"
      ],
      "text/plain": [
       "  Acceleration Aggression Agility Balance Ball control Composure Crossing  \\\n",
       "0           89         63      89      63           93        95       85   \n",
       "1           92         48      90      95           95        96       77   \n",
       "2           94         56      96      82           95        92       75   \n",
       "3           88         78      86      60           91        83       77   \n",
       "4           58         29      52      35           48        70       15   \n",
       "5           79         80      78      80           89        87       62   \n",
       "6           57         38      60      43           42        64       17   \n",
       "7           93         54      93      91           92        87       80   \n",
       "8           60         60      71      69           89        85       85   \n",
       "9           78         50      75      69           85        86       68   \n",
       "\n",
       "  Curve Dribbling Finishing         ...         Short passing Shot power  \\\n",
       "0    81        91        94         ...                    83         94   \n",
       "1    89        97        95         ...                    88         85   \n",
       "2    81        96        89         ...                    81         80   \n",
       "3    86        86        94         ...                    83         87   \n",
       "4    14        30        13         ...                    55         25   \n",
       "5    77        85        91         ...                    83         88   \n",
       "6    21        18        13         ...                    50         31   \n",
       "7    82        93        83         ...                    86         79   \n",
       "8    85        79        76         ...                    90         87   \n",
       "9    74        84        91         ...                    75         88   \n",
       "\n",
       "  Sliding tackle Sprint speed Stamina Standing tackle Strength Vision Volleys  \\\n",
       "0             23           91      92              31       80     85      88   \n",
       "1             26           87      73              28       59     90      85   \n",
       "2             33           90      78              24       53     80      83   \n",
       "3             38           77      89              45       80     84      88   \n",
       "4             11           61      44              10       83     70      11   \n",
       "5             19           83      79              42       84     78      87   \n",
       "6             13           58      40              21       64     68      13   \n",
       "7             22           87      79              27       65     86      79   \n",
       "8             69           52      77              82       74     88      82   \n",
       "9             18           80      72              22       85     70      88   \n",
       "\n",
       "  Preferred Positions  \n",
       "0              ST LW   \n",
       "1                 RW   \n",
       "2                 LW   \n",
       "3                 ST   \n",
       "4                 GK   \n",
       "5                 ST   \n",
       "6                 GK   \n",
       "7                 LW   \n",
       "8             CDM CM   \n",
       "9                 ST   \n",
       "\n",
       "[10 rows x 35 columns]"
      ]
     },
     "execution_count": 7,
     "metadata": {},
     "output_type": "execute_result"
    }
   ],
   "source": [
    "training_data[: 10]"
   ]
  },
  {
   "cell_type": "code",
   "execution_count": 8,
   "metadata": {},
   "outputs": [
    {
     "data": {
      "text/html": [
       "<div>\n",
       "<style scoped>\n",
       "    .dataframe tbody tr th:only-of-type {\n",
       "        vertical-align: middle;\n",
       "    }\n",
       "\n",
       "    .dataframe tbody tr th {\n",
       "        vertical-align: top;\n",
       "    }\n",
       "\n",
       "    .dataframe thead th {\n",
       "        text-align: right;\n",
       "    }\n",
       "</style>\n",
       "<table border=\"1\" class=\"dataframe\">\n",
       "  <thead>\n",
       "    <tr style=\"text-align: right;\">\n",
       "      <th></th>\n",
       "      <th>Acceleration</th>\n",
       "      <th>Aggression</th>\n",
       "      <th>Agility</th>\n",
       "      <th>Balance</th>\n",
       "      <th>Ball control</th>\n",
       "      <th>Composure</th>\n",
       "      <th>Crossing</th>\n",
       "      <th>Curve</th>\n",
       "      <th>Dribbling</th>\n",
       "      <th>Finishing</th>\n",
       "      <th>...</th>\n",
       "      <th>Short passing</th>\n",
       "      <th>Shot power</th>\n",
       "      <th>Sliding tackle</th>\n",
       "      <th>Sprint speed</th>\n",
       "      <th>Stamina</th>\n",
       "      <th>Standing tackle</th>\n",
       "      <th>Strength</th>\n",
       "      <th>Vision</th>\n",
       "      <th>Volleys</th>\n",
       "      <th>Preferred Positions</th>\n",
       "    </tr>\n",
       "  </thead>\n",
       "  <tbody>\n",
       "    <tr>\n",
       "      <th>0</th>\n",
       "      <td>89</td>\n",
       "      <td>63</td>\n",
       "      <td>89</td>\n",
       "      <td>63</td>\n",
       "      <td>93</td>\n",
       "      <td>95</td>\n",
       "      <td>85</td>\n",
       "      <td>81</td>\n",
       "      <td>91</td>\n",
       "      <td>94</td>\n",
       "      <td>...</td>\n",
       "      <td>83</td>\n",
       "      <td>94</td>\n",
       "      <td>23</td>\n",
       "      <td>91</td>\n",
       "      <td>92</td>\n",
       "      <td>31</td>\n",
       "      <td>80</td>\n",
       "      <td>85</td>\n",
       "      <td>88</td>\n",
       "      <td>ST LW</td>\n",
       "    </tr>\n",
       "    <tr>\n",
       "      <th>1</th>\n",
       "      <td>92</td>\n",
       "      <td>48</td>\n",
       "      <td>90</td>\n",
       "      <td>95</td>\n",
       "      <td>95</td>\n",
       "      <td>96</td>\n",
       "      <td>77</td>\n",
       "      <td>89</td>\n",
       "      <td>97</td>\n",
       "      <td>95</td>\n",
       "      <td>...</td>\n",
       "      <td>88</td>\n",
       "      <td>85</td>\n",
       "      <td>26</td>\n",
       "      <td>87</td>\n",
       "      <td>73</td>\n",
       "      <td>28</td>\n",
       "      <td>59</td>\n",
       "      <td>90</td>\n",
       "      <td>85</td>\n",
       "      <td>RW</td>\n",
       "    </tr>\n",
       "    <tr>\n",
       "      <th>2</th>\n",
       "      <td>94</td>\n",
       "      <td>56</td>\n",
       "      <td>96</td>\n",
       "      <td>82</td>\n",
       "      <td>95</td>\n",
       "      <td>92</td>\n",
       "      <td>75</td>\n",
       "      <td>81</td>\n",
       "      <td>96</td>\n",
       "      <td>89</td>\n",
       "      <td>...</td>\n",
       "      <td>81</td>\n",
       "      <td>80</td>\n",
       "      <td>33</td>\n",
       "      <td>90</td>\n",
       "      <td>78</td>\n",
       "      <td>24</td>\n",
       "      <td>53</td>\n",
       "      <td>80</td>\n",
       "      <td>83</td>\n",
       "      <td>LW</td>\n",
       "    </tr>\n",
       "    <tr>\n",
       "      <th>3</th>\n",
       "      <td>88</td>\n",
       "      <td>78</td>\n",
       "      <td>86</td>\n",
       "      <td>60</td>\n",
       "      <td>91</td>\n",
       "      <td>83</td>\n",
       "      <td>77</td>\n",
       "      <td>86</td>\n",
       "      <td>86</td>\n",
       "      <td>94</td>\n",
       "      <td>...</td>\n",
       "      <td>83</td>\n",
       "      <td>87</td>\n",
       "      <td>38</td>\n",
       "      <td>77</td>\n",
       "      <td>89</td>\n",
       "      <td>45</td>\n",
       "      <td>80</td>\n",
       "      <td>84</td>\n",
       "      <td>88</td>\n",
       "      <td>ST</td>\n",
       "    </tr>\n",
       "    <tr>\n",
       "      <th>4</th>\n",
       "      <td>58</td>\n",
       "      <td>29</td>\n",
       "      <td>52</td>\n",
       "      <td>35</td>\n",
       "      <td>48</td>\n",
       "      <td>70</td>\n",
       "      <td>15</td>\n",
       "      <td>14</td>\n",
       "      <td>30</td>\n",
       "      <td>13</td>\n",
       "      <td>...</td>\n",
       "      <td>55</td>\n",
       "      <td>25</td>\n",
       "      <td>11</td>\n",
       "      <td>61</td>\n",
       "      <td>44</td>\n",
       "      <td>10</td>\n",
       "      <td>83</td>\n",
       "      <td>70</td>\n",
       "      <td>11</td>\n",
       "      <td>GK</td>\n",
       "    </tr>\n",
       "  </tbody>\n",
       "</table>\n",
       "<p>5 rows × 35 columns</p>\n",
       "</div>"
      ],
      "text/plain": [
       "  Acceleration Aggression Agility Balance Ball control Composure Crossing  \\\n",
       "0           89         63      89      63           93        95       85   \n",
       "1           92         48      90      95           95        96       77   \n",
       "2           94         56      96      82           95        92       75   \n",
       "3           88         78      86      60           91        83       77   \n",
       "4           58         29      52      35           48        70       15   \n",
       "\n",
       "  Curve Dribbling Finishing         ...         Short passing Shot power  \\\n",
       "0    81        91        94         ...                    83         94   \n",
       "1    89        97        95         ...                    88         85   \n",
       "2    81        96        89         ...                    81         80   \n",
       "3    86        86        94         ...                    83         87   \n",
       "4    14        30        13         ...                    55         25   \n",
       "\n",
       "  Sliding tackle Sprint speed Stamina Standing tackle Strength Vision Volleys  \\\n",
       "0             23           91      92              31       80     85      88   \n",
       "1             26           87      73              28       59     90      85   \n",
       "2             33           90      78              24       53     80      83   \n",
       "3             38           77      89              45       80     84      88   \n",
       "4             11           61      44              10       83     70      11   \n",
       "\n",
       "  Preferred Positions  \n",
       "0              ST LW   \n",
       "1                 RW   \n",
       "2                 LW   \n",
       "3                 ST   \n",
       "4                 GK   \n",
       "\n",
       "[5 rows x 35 columns]"
      ]
     },
     "execution_count": 8,
     "metadata": {},
     "output_type": "execute_result"
    }
   ],
   "source": [
    "training_data.head()"
   ]
  },
  {
   "cell_type": "code",
   "execution_count": null,
   "metadata": {},
   "outputs": [],
   "source": []
  },
  {
   "cell_type": "code",
   "execution_count": 9,
   "metadata": {},
   "outputs": [
    {
     "name": "stderr",
     "output_type": "stream",
     "text": [
      "/home/filip/anaconda3/lib/python3.6/site-packages/ipykernel_launcher.py:5: FutureWarning: set_value is deprecated and will be removed in a future release. Please use .at[] or .iat[] accessors instead\n",
      "  \"\"\"\n"
     ]
    }
   ],
   "source": [
    "#sada izdvajamo samo jednu poziciju na koja igracu najvise odgovara\n",
    "training_data['Preferred Positions'] = training_data['Preferred Positions'].astype(str)\n",
    "for ind, row in training_data.iterrows():\n",
    "    firstPosition = row['Preferred Positions'].split(' ')[0]\n",
    "    training_data.set_value(ind, 'Preferred Positions', firstPosition)\n",
    "    "
   ]
  },
  {
   "cell_type": "code",
   "execution_count": 10,
   "metadata": {},
   "outputs": [
    {
     "data": {
      "text/plain": [
       "0     ST\n",
       "1     RW\n",
       "2     LW\n",
       "3     ST\n",
       "4     GK\n",
       "5     ST\n",
       "6     GK\n",
       "7     LW\n",
       "8    CDM\n",
       "9     ST\n",
       "Name: Preferred Positions, dtype: object"
      ]
     },
     "execution_count": 10,
     "metadata": {},
     "output_type": "execute_result"
    }
   ],
   "source": [
    "training_data['Preferred Positions'][ : 10]"
   ]
  },
  {
   "cell_type": "code",
   "execution_count": 11,
   "metadata": {},
   "outputs": [],
   "source": [
    "# posto predvidjamo da li igrac igra napad ili odbranu, izdvojicemo napadacke i odbrambene pozicije\n",
    "attack_positions = ['ST','LW','RW','RM','CM','LM','CAM','CF', 'LAM', 'LCM', 'LF', 'LS', 'RAM', 'RCM', 'RF', 'RS']\n",
    "defense_positions = ['CDM','CB','LB','RB','RWB','LWB','GK','LCB','LDM','RCB','RDM' ]\n"
   ]
  },
  {
   "cell_type": "code",
   "execution_count": null,
   "metadata": {},
   "outputs": [],
   "source": []
  },
  {
   "cell_type": "code",
   "execution_count": 12,
   "metadata": {},
   "outputs": [
    {
     "name": "stderr",
     "output_type": "stream",
     "text": [
      "/home/filip/anaconda3/lib/python3.6/site-packages/ipykernel_launcher.py:7: FutureWarning: set_value is deprecated and will be removed in a future release. Please use .at[] or .iat[] accessors instead\n",
      "  import sys\n"
     ]
    }
   ],
   "source": [
    "#dodajemo labelu koja oznacava na kojoj poziciji igra igrac, za to cemo iskoristiti prefered positions\n",
    "training_data['Position'] = 0\n",
    "for ind, row in training_data.iterrows():\n",
    "    \n",
    "    position =  row['Preferred Positions']\n",
    "    if position in attack_positions:\n",
    "        training_data.set_value(ind, 'Position', 1)"
   ]
  },
  {
   "cell_type": "code",
   "execution_count": 13,
   "metadata": {},
   "outputs": [
    {
     "data": {
      "text/plain": [
       "0      ST\n",
       "1      RW\n",
       "2      LW\n",
       "3      ST\n",
       "4      GK\n",
       "5      ST\n",
       "6      GK\n",
       "7      LW\n",
       "8     CDM\n",
       "9      ST\n",
       "10     CB\n",
       "11     RM\n",
       "12     GK\n",
       "13     RM\n",
       "14    CDM\n",
       "15     RW\n",
       "16     ST\n",
       "17     CB\n",
       "18     GK\n",
       "19     ST\n",
       "Name: Preferred Positions, dtype: object"
      ]
     },
     "execution_count": 13,
     "metadata": {},
     "output_type": "execute_result"
    }
   ],
   "source": [
    " training_data['Preferred Positions'][: 20]"
   ]
  },
  {
   "cell_type": "code",
   "execution_count": 14,
   "metadata": {},
   "outputs": [
    {
     "data": {
      "text/plain": [
       "0     1\n",
       "1     1\n",
       "2     1\n",
       "3     1\n",
       "4     0\n",
       "5     1\n",
       "6     0\n",
       "7     1\n",
       "8     0\n",
       "9     1\n",
       "10    0\n",
       "11    1\n",
       "12    0\n",
       "13    1\n",
       "14    0\n",
       "15    1\n",
       "16    1\n",
       "17    0\n",
       "18    0\n",
       "19    1\n",
       "Name: Position, dtype: int64"
      ]
     },
     "execution_count": 14,
     "metadata": {},
     "output_type": "execute_result"
    }
   ],
   "source": [
    "training_data['Position'][: 20]"
   ]
  },
  {
   "cell_type": "code",
   "execution_count": 15,
   "metadata": {},
   "outputs": [
    {
     "data": {
      "text/plain": [
       "Index(['Acceleration', 'Aggression', 'Agility', 'Balance', 'Ball control',\n",
       "       'Composure', 'Crossing', 'Curve', 'Dribbling', 'Finishing',\n",
       "       'Free kick accuracy', 'GK diving', 'GK handling', 'GK kicking',\n",
       "       'GK positioning', 'GK reflexes', 'Heading accuracy', 'Interceptions',\n",
       "       'Jumping', 'Long passing', 'Long shots', 'Marking', 'Penalties',\n",
       "       'Positioning', 'Reactions', 'Short passing', 'Shot power',\n",
       "       'Sliding tackle', 'Sprint speed', 'Stamina', 'Standing tackle',\n",
       "       'Strength', 'Vision', 'Volleys'],\n",
       "      dtype='object')"
      ]
     },
     "execution_count": 15,
     "metadata": {},
     "output_type": "execute_result"
    }
   ],
   "source": [
    "#izdvajamo podatke \n",
    "x_data = training_data.drop(columns=['Position', 'Preferred Positions'])\n",
    "y_data = training_data['Position']                          \n",
    "x_data.columns"
   ]
  },
  {
   "cell_type": "code",
   "execution_count": 16,
   "metadata": {},
   "outputs": [],
   "source": [
    "# posto imamo vrednosti atributa koje imaju + u sebi taj plus skidamo. isti slucaj sa minusom\n",
    "def delete(data):\n",
    "    for ind, row in data.iterrows():\n",
    "        columns = data.columns\n",
    "        for column in columns:\n",
    "            value = row[column]\n",
    "            if '+' in value:\n",
    "                value = value.split('+')[0]\n",
    "               # print (value)\n",
    "                data.set_value(ind, column, value)\n",
    "            elif '-' in value:\n",
    "                value = value.split('-')[0]\n",
    "               # print (value)\n",
    "                data.set_value(ind, column, value)\n",
    "        \n",
    "        \n",
    "        \n",
    "    return data"
   ]
  },
  {
   "cell_type": "code",
   "execution_count": 17,
   "metadata": {},
   "outputs": [
    {
     "name": "stderr",
     "output_type": "stream",
     "text": [
      "/home/filip/anaconda3/lib/python3.6/site-packages/ipykernel_launcher.py:14: FutureWarning: set_value is deprecated and will be removed in a future release. Please use .at[] or .iat[] accessors instead\n",
      "  \n",
      "/home/filip/anaconda3/lib/python3.6/site-packages/ipykernel_launcher.py:10: FutureWarning: set_value is deprecated and will be removed in a future release. Please use .at[] or .iat[] accessors instead\n",
      "  # Remove the CWD from sys.path while we load stuff.\n"
     ]
    },
    {
     "data": {
      "text/html": [
       "<div>\n",
       "<style scoped>\n",
       "    .dataframe tbody tr th:only-of-type {\n",
       "        vertical-align: middle;\n",
       "    }\n",
       "\n",
       "    .dataframe tbody tr th {\n",
       "        vertical-align: top;\n",
       "    }\n",
       "\n",
       "    .dataframe thead th {\n",
       "        text-align: right;\n",
       "    }\n",
       "</style>\n",
       "<table border=\"1\" class=\"dataframe\">\n",
       "  <thead>\n",
       "    <tr style=\"text-align: right;\">\n",
       "      <th></th>\n",
       "      <th>Acceleration</th>\n",
       "      <th>Aggression</th>\n",
       "      <th>Agility</th>\n",
       "      <th>Balance</th>\n",
       "      <th>Ball control</th>\n",
       "      <th>Composure</th>\n",
       "      <th>Crossing</th>\n",
       "      <th>Curve</th>\n",
       "      <th>Dribbling</th>\n",
       "      <th>Finishing</th>\n",
       "      <th>...</th>\n",
       "      <th>Reactions</th>\n",
       "      <th>Short passing</th>\n",
       "      <th>Shot power</th>\n",
       "      <th>Sliding tackle</th>\n",
       "      <th>Sprint speed</th>\n",
       "      <th>Stamina</th>\n",
       "      <th>Standing tackle</th>\n",
       "      <th>Strength</th>\n",
       "      <th>Vision</th>\n",
       "      <th>Volleys</th>\n",
       "    </tr>\n",
       "  </thead>\n",
       "  <tbody>\n",
       "    <tr>\n",
       "      <th>20</th>\n",
       "      <td>43</td>\n",
       "      <td>34</td>\n",
       "      <td>67</td>\n",
       "      <td>49</td>\n",
       "      <td>16</td>\n",
       "      <td>55</td>\n",
       "      <td>13</td>\n",
       "      <td>13</td>\n",
       "      <td>12</td>\n",
       "      <td>11</td>\n",
       "      <td>...</td>\n",
       "      <td>84</td>\n",
       "      <td>29</td>\n",
       "      <td>22</td>\n",
       "      <td>18</td>\n",
       "      <td>60</td>\n",
       "      <td>41</td>\n",
       "      <td>12</td>\n",
       "      <td>78</td>\n",
       "      <td>55</td>\n",
       "      <td>13</td>\n",
       "    </tr>\n",
       "    <tr>\n",
       "      <th>21</th>\n",
       "      <td>87</td>\n",
       "      <td>69</td>\n",
       "      <td>90</td>\n",
       "      <td>80</td>\n",
       "      <td>86</td>\n",
       "      <td>86</td>\n",
       "      <td>82</td>\n",
       "      <td>84</td>\n",
       "      <td>87</td>\n",
       "      <td>88</td>\n",
       "      <td>...</td>\n",
       "      <td>90</td>\n",
       "      <td>79</td>\n",
       "      <td>81</td>\n",
       "      <td>11</td>\n",
       "      <td>86</td>\n",
       "      <td>76</td>\n",
       "      <td>22</td>\n",
       "      <td>61</td>\n",
       "      <td>76</td>\n",
       "      <td>87</td>\n",
       "    </tr>\n",
       "    <tr>\n",
       "      <th>22</th>\n",
       "      <td>77</td>\n",
       "      <td>57</td>\n",
       "      <td>90</td>\n",
       "      <td>86</td>\n",
       "      <td>92</td>\n",
       "      <td>83</td>\n",
       "      <td>72</td>\n",
       "      <td>85</td>\n",
       "      <td>90</td>\n",
       "      <td>69</td>\n",
       "      <td>...</td>\n",
       "      <td>84</td>\n",
       "      <td>91</td>\n",
       "      <td>75</td>\n",
       "      <td>62</td>\n",
       "      <td>68</td>\n",
       "      <td>75</td>\n",
       "      <td>64</td>\n",
       "      <td>59</td>\n",
       "      <td>86</td>\n",
       "      <td>90</td>\n",
       "    </tr>\n",
       "    <tr>\n",
       "      <th>23</th>\n",
       "      <td>95</td>\n",
       "      <td>43</td>\n",
       "      <td>77</td>\n",
       "      <td>70</td>\n",
       "      <td>82</td>\n",
       "      <td>84</td>\n",
       "      <td>77</td>\n",
       "      <td>78</td>\n",
       "      <td>82</td>\n",
       "      <td>88</td>\n",
       "      <td>...</td>\n",
       "      <td>87</td>\n",
       "      <td>77</td>\n",
       "      <td>81</td>\n",
       "      <td>36</td>\n",
       "      <td>96</td>\n",
       "      <td>79</td>\n",
       "      <td>25</td>\n",
       "      <td>77</td>\n",
       "      <td>77</td>\n",
       "      <td>86</td>\n",
       "    </tr>\n",
       "    <tr>\n",
       "      <th>24</th>\n",
       "      <td>62</td>\n",
       "      <td>82</td>\n",
       "      <td>60</td>\n",
       "      <td>52</td>\n",
       "      <td>75</td>\n",
       "      <td>84</td>\n",
       "      <td>44</td>\n",
       "      <td>56</td>\n",
       "      <td>69</td>\n",
       "      <td>39</td>\n",
       "      <td>...</td>\n",
       "      <td>86</td>\n",
       "      <td>79</td>\n",
       "      <td>74</td>\n",
       "      <td>88</td>\n",
       "      <td>72</td>\n",
       "      <td>73</td>\n",
       "      <td>88</td>\n",
       "      <td>85</td>\n",
       "      <td>74</td>\n",
       "      <td>58</td>\n",
       "    </tr>\n",
       "    <tr>\n",
       "      <th>25</th>\n",
       "      <td>72</td>\n",
       "      <td>82</td>\n",
       "      <td>58</td>\n",
       "      <td>53</td>\n",
       "      <td>71</td>\n",
       "      <td>86</td>\n",
       "      <td>69</td>\n",
       "      <td>56</td>\n",
       "      <td>67</td>\n",
       "      <td>34</td>\n",
       "      <td>...</td>\n",
       "      <td>82</td>\n",
       "      <td>75</td>\n",
       "      <td>79</td>\n",
       "      <td>90</td>\n",
       "      <td>78</td>\n",
       "      <td>74</td>\n",
       "      <td>91</td>\n",
       "      <td>91</td>\n",
       "      <td>76</td>\n",
       "      <td>53</td>\n",
       "    </tr>\n",
       "    <tr>\n",
       "      <th>26</th>\n",
       "      <td>62</td>\n",
       "      <td>86</td>\n",
       "      <td>63</td>\n",
       "      <td>58</td>\n",
       "      <td>76</td>\n",
       "      <td>82</td>\n",
       "      <td>55</td>\n",
       "      <td>49</td>\n",
       "      <td>53</td>\n",
       "      <td>42</td>\n",
       "      <td>...</td>\n",
       "      <td>85</td>\n",
       "      <td>79</td>\n",
       "      <td>67</td>\n",
       "      <td>89</td>\n",
       "      <td>67</td>\n",
       "      <td>67</td>\n",
       "      <td>86</td>\n",
       "      <td>80</td>\n",
       "      <td>52</td>\n",
       "      <td>47</td>\n",
       "    </tr>\n",
       "    <tr>\n",
       "      <th>27</th>\n",
       "      <td>62</td>\n",
       "      <td>66</td>\n",
       "      <td>64</td>\n",
       "      <td>58</td>\n",
       "      <td>77</td>\n",
       "      <td>91</td>\n",
       "      <td>64</td>\n",
       "      <td>65</td>\n",
       "      <td>68</td>\n",
       "      <td>55</td>\n",
       "      <td>...</td>\n",
       "      <td>85</td>\n",
       "      <td>80</td>\n",
       "      <td>71</td>\n",
       "      <td>90</td>\n",
       "      <td>65</td>\n",
       "      <td>66</td>\n",
       "      <td>92</td>\n",
       "      <td>85</td>\n",
       "      <td>79</td>\n",
       "      <td>60</td>\n",
       "    </tr>\n",
       "    <tr>\n",
       "      <th>28</th>\n",
       "      <td>75</td>\n",
       "      <td>48</td>\n",
       "      <td>83</td>\n",
       "      <td>70</td>\n",
       "      <td>90</td>\n",
       "      <td>78</td>\n",
       "      <td>82</td>\n",
       "      <td>84</td>\n",
       "      <td>86</td>\n",
       "      <td>74</td>\n",
       "      <td>...</td>\n",
       "      <td>87</td>\n",
       "      <td>89</td>\n",
       "      <td>70</td>\n",
       "      <td>19</td>\n",
       "      <td>68</td>\n",
       "      <td>69</td>\n",
       "      <td>16</td>\n",
       "      <td>57</td>\n",
       "      <td>92</td>\n",
       "      <td>77</td>\n",
       "    </tr>\n",
       "    <tr>\n",
       "      <th>29</th>\n",
       "      <td>65</td>\n",
       "      <td>31</td>\n",
       "      <td>55</td>\n",
       "      <td>54</td>\n",
       "      <td>34</td>\n",
       "      <td>61</td>\n",
       "      <td>13</td>\n",
       "      <td>11</td>\n",
       "      <td>10</td>\n",
       "      <td>10</td>\n",
       "      <td>...</td>\n",
       "      <td>85</td>\n",
       "      <td>50</td>\n",
       "      <td>23</td>\n",
       "      <td>18</td>\n",
       "      <td>63</td>\n",
       "      <td>41</td>\n",
       "      <td>10</td>\n",
       "      <td>43</td>\n",
       "      <td>30</td>\n",
       "      <td>11</td>\n",
       "    </tr>\n",
       "  </tbody>\n",
       "</table>\n",
       "<p>10 rows × 34 columns</p>\n",
       "</div>"
      ],
      "text/plain": [
       "   Acceleration Aggression Agility Balance Ball control Composure Crossing  \\\n",
       "20           43         34      67      49           16        55       13   \n",
       "21           87         69      90      80           86        86       82   \n",
       "22           77         57      90      86           92        83       72   \n",
       "23           95         43      77      70           82        84       77   \n",
       "24           62         82      60      52           75        84       44   \n",
       "25           72         82      58      53           71        86       69   \n",
       "26           62         86      63      58           76        82       55   \n",
       "27           62         66      64      58           77        91       64   \n",
       "28           75         48      83      70           90        78       82   \n",
       "29           65         31      55      54           34        61       13   \n",
       "\n",
       "   Curve Dribbling Finishing   ...   Reactions Short passing Shot power  \\\n",
       "20    13        12        11   ...          84            29         22   \n",
       "21    84        87        88   ...          90            79         81   \n",
       "22    85        90        69   ...          84            91         75   \n",
       "23    78        82        88   ...          87            77         81   \n",
       "24    56        69        39   ...          86            79         74   \n",
       "25    56        67        34   ...          82            75         79   \n",
       "26    49        53        42   ...          85            79         67   \n",
       "27    65        68        55   ...          85            80         71   \n",
       "28    84        86        74   ...          87            89         70   \n",
       "29    11        10        10   ...          85            50         23   \n",
       "\n",
       "   Sliding tackle Sprint speed Stamina Standing tackle Strength Vision Volleys  \n",
       "20             18           60      41              12       78     55      13  \n",
       "21             11           86      76              22       61     76      87  \n",
       "22             62           68      75              64       59     86      90  \n",
       "23             36           96      79              25       77     77      86  \n",
       "24             88           72      73              88       85     74      58  \n",
       "25             90           78      74              91       91     76      53  \n",
       "26             89           67      67              86       80     52      47  \n",
       "27             90           65      66              92       85     79      60  \n",
       "28             19           68      69              16       57     92      77  \n",
       "29             18           63      41              10       43     30      11  \n",
       "\n",
       "[10 rows x 34 columns]"
      ]
     },
     "execution_count": 17,
     "metadata": {},
     "output_type": "execute_result"
    }
   ],
   "source": [
    "x_data = delete(x_data)\n",
    "x_data[ 20 : 30]"
   ]
  },
  {
   "cell_type": "code",
   "execution_count": 18,
   "metadata": {},
   "outputs": [],
   "source": [
    "#pretvaramo tipove u numericke\n",
    "columns = x_data.columns\n",
    "x_data = x_data[columns].apply(pd.to_numeric)"
   ]
  },
  {
   "cell_type": "code",
   "execution_count": 19,
   "metadata": {},
   "outputs": [
    {
     "data": {
      "text/plain": [
       "(12047, 34)"
      ]
     },
     "execution_count": 19,
     "metadata": {},
     "output_type": "execute_result"
    }
   ],
   "source": [
    "#vrsimo podelu podataka na trening i test skup\n",
    "x_train, x_test, y_train, y_test = model_selection.train_test_split(x_data, y_data, test_size = 0.33, stratify = y_data, random_state = 7)\n",
    "x_train.shape"
   ]
  },
  {
   "cell_type": "code",
   "execution_count": 20,
   "metadata": {},
   "outputs": [],
   "source": [
    "#vrsimo pretprocesiranje podataka\n",
    "scaler = preprocessing.StandardScaler()\n",
    "scaler.fit(x_train)\n",
    "x_train = scaler.transform(x_train)\n",
    "x_test = scaler.transform(x_test)"
   ]
  },
  {
   "cell_type": "code",
   "execution_count": 21,
   "metadata": {},
   "outputs": [],
   "source": [
    "linear_model = linear_model.LogisticRegression()"
   ]
  },
  {
   "cell_type": "code",
   "execution_count": 22,
   "metadata": {},
   "outputs": [
    {
     "data": {
      "text/plain": [
       "LogisticRegression(C=1.0, class_weight=None, dual=False, fit_intercept=True,\n",
       "          intercept_scaling=1, max_iter=100, multi_class='ovr', n_jobs=1,\n",
       "          penalty='l2', random_state=None, solver='liblinear', tol=0.0001,\n",
       "          verbose=0, warm_start=False)"
      ]
     },
     "execution_count": 22,
     "metadata": {},
     "output_type": "execute_result"
    }
   ],
   "source": [
    "linear_model.fit(x_train, y_train)"
   ]
  },
  {
   "cell_type": "code",
   "execution_count": 23,
   "metadata": {},
   "outputs": [
    {
     "data": {
      "text/plain": [
       "0.88146426496223129"
      ]
     },
     "execution_count": 23,
     "metadata": {},
     "output_type": "execute_result"
    }
   ],
   "source": [
    "#vrsimo predvidjanja na trening skupa, a zatim i na test skupu\n",
    "training_predict = linear_model.predict(x_train)\n",
    "training_acc = metrics.accuracy_score(y_train, training_predict)\n",
    "training_acc"
   ]
  },
  {
   "cell_type": "code",
   "execution_count": 24,
   "metadata": {},
   "outputs": [
    {
     "data": {
      "text/plain": [
       "0.88102460397708127"
      ]
     },
     "execution_count": 24,
     "metadata": {},
     "output_type": "execute_result"
    }
   ],
   "source": [
    "test_predict = linear_model.predict(x_test)\n",
    "test_acc = metrics.accuracy_score(y_test, test_predict)\n",
    "test_acc"
   ]
  },
  {
   "cell_type": "code",
   "execution_count": 25,
   "metadata": {},
   "outputs": [],
   "source": [
    "svm_model = svm.SVC()\n",
    "params = {'C' : [10**i for i in range(-5, 5)], 'gamma' : [10**i for i in range(-3, 3)]}\n",
    "grid = model_selection.GridSearchCV(svm_model, param_grid=params, scoring='accuracy', cv = 5, return_train_score=True)"
   ]
  },
  {
   "cell_type": "code",
   "execution_count": 26,
   "metadata": {},
   "outputs": [
    {
     "data": {
      "text/plain": [
       "SVC(C=1.0, cache_size=200, class_weight=None, coef0=0.0,\n",
       "  decision_function_shape='ovr', degree=3, gamma='auto', kernel='rbf',\n",
       "  max_iter=-1, probability=False, random_state=None, shrinking=True,\n",
       "  tol=0.001, verbose=False)"
      ]
     },
     "execution_count": 26,
     "metadata": {},
     "output_type": "execute_result"
    }
   ],
   "source": [
    "svm_model.fit(x_train, y_train)"
   ]
  },
  {
   "cell_type": "code",
   "execution_count": 27,
   "metadata": {},
   "outputs": [
    {
     "data": {
      "text/plain": [
       "0.89042915248609611"
      ]
     },
     "execution_count": 27,
     "metadata": {},
     "output_type": "execute_result"
    }
   ],
   "source": [
    "svm_training_predicted = svm_model.predict(x_train)\n",
    "svm_training_acc = metrics.accuracy_score(y_train, svm_training_predicted)\n",
    "svm_training_acc"
   ]
  },
  {
   "cell_type": "code",
   "execution_count": 28,
   "metadata": {},
   "outputs": [
    {
     "data": {
      "text/plain": [
       "0.8850690933602966"
      ]
     },
     "execution_count": 28,
     "metadata": {},
     "output_type": "execute_result"
    }
   ],
   "source": [
    "svm_test_predicted = svm_model.predict(x_test)\n",
    "svm_test_acc = metrics.accuracy_score(y_test, svm_test_predicted)\n",
    "svm_test_acc"
   ]
  },
  {
   "cell_type": "code",
   "execution_count": 29,
   "metadata": {},
   "outputs": [],
   "source": [
    "#metoda potpornih vektora daje nesto vecu tacnost, tako da cemo nju koristiti za predvidjanje pozicija napad ili odbrana\n",
    "#svm_model.fit(x_data, y_data)"
   ]
  },
  {
   "cell_type": "code",
   "execution_count": 30,
   "metadata": {},
   "outputs": [
    {
     "name": "stderr",
     "output_type": "stream",
     "text": [
      "Using TensorFlow backend.\n"
     ]
    }
   ],
   "source": [
    "from keras.models import Sequential\n",
    "from keras.layers import Dense, Activation\n",
    "from keras import losses, optimizers"
   ]
  },
  {
   "cell_type": "code",
   "execution_count": 31,
   "metadata": {},
   "outputs": [],
   "source": [
    "def one_hot(data):\n",
    "    y = np.zeros((data.shape[0], 4))\n",
    "    defense_positions = ['CB','LB','RB','RWB','LWB','LCB','RCB']\n",
    "    attack_positions = ['ST','LW','RW','CAM','CF', 'LAM', 'LF', 'LS', 'RAM',  'RF', 'RS']\n",
    "    middle_positions = ['CDM', 'LDM', 'RDM', 'RM', 'CM', 'LM', 'LCM', 'RCM']\n",
    "    \n",
    "    for ind, row in data.iterrows():\n",
    "        position = row['Preferred Positions']\n",
    "        if position == \"GK\":\n",
    "            y[ind][0] = 1\n",
    "        elif position in defense_positions:\n",
    "            y[ind][1] = 1\n",
    "        elif position in middle_positions:\n",
    "            y[ind][2] = 1\n",
    "        else :\n",
    "            y[ind][3] = 1\n",
    "            \n",
    "    return y"
   ]
  },
  {
   "cell_type": "code",
   "execution_count": 32,
   "metadata": {},
   "outputs": [],
   "source": [
    "y_data = one_hot(training_data)"
   ]
  },
  {
   "cell_type": "code",
   "execution_count": 33,
   "metadata": {},
   "outputs": [
    {
     "data": {
      "text/plain": [
       "0     ST\n",
       "1     RW\n",
       "2     LW\n",
       "3     ST\n",
       "4     GK\n",
       "5     ST\n",
       "6     GK\n",
       "7     LW\n",
       "8    CDM\n",
       "9     ST\n",
       "Name: Preferred Positions, dtype: object"
      ]
     },
     "execution_count": 33,
     "metadata": {},
     "output_type": "execute_result"
    }
   ],
   "source": [
    "training_data['Preferred Positions'][0 : 10]"
   ]
  },
  {
   "cell_type": "code",
   "execution_count": 34,
   "metadata": {},
   "outputs": [
    {
     "data": {
      "text/plain": [
       "array([[ 0.,  0.,  0.,  1.],\n",
       "       [ 0.,  0.,  0.,  1.],\n",
       "       [ 0.,  0.,  0.,  1.],\n",
       "       [ 0.,  0.,  0.,  1.],\n",
       "       [ 1.,  0.,  0.,  0.],\n",
       "       [ 0.,  0.,  0.,  1.],\n",
       "       [ 1.,  0.,  0.,  0.],\n",
       "       [ 0.,  0.,  0.,  1.],\n",
       "       [ 0.,  0.,  1.,  0.],\n",
       "       [ 0.,  0.,  0.,  1.]])"
      ]
     },
     "execution_count": 34,
     "metadata": {},
     "output_type": "execute_result"
    }
   ],
   "source": [
    "y_data[0 : 10]"
   ]
  },
  {
   "cell_type": "code",
   "execution_count": 35,
   "metadata": {},
   "outputs": [],
   "source": [
    "# pravimo neuronsku mrezu\n",
    "model = Sequential()\n",
    "model.add(Dense(units = 112, input_dim = x_data.shape[1], activation='relu'))\n",
    "model.add(Dense(units = 50, activation='relu'))\n",
    "model.add(Dense(units = 4, activation='sigmoid'))"
   ]
  },
  {
   "cell_type": "code",
   "execution_count": 36,
   "metadata": {},
   "outputs": [],
   "source": [
    "model.compile(optimizer='adam', loss = losses.binary_crossentropy, metrics=['accuracy'])"
   ]
  },
  {
   "cell_type": "code",
   "execution_count": 37,
   "metadata": {},
   "outputs": [
    {
     "name": "stdout",
     "output_type": "stream",
     "text": [
      "_________________________________________________________________\n",
      "Layer (type)                 Output Shape              Param #   \n",
      "=================================================================\n",
      "dense_1 (Dense)              (None, 112)               3920      \n",
      "_________________________________________________________________\n",
      "dense_2 (Dense)              (None, 50)                5650      \n",
      "_________________________________________________________________\n",
      "dense_3 (Dense)              (None, 4)                 204       \n",
      "=================================================================\n",
      "Total params: 9,774\n",
      "Trainable params: 9,774\n",
      "Non-trainable params: 0\n",
      "_________________________________________________________________\n"
     ]
    }
   ],
   "source": [
    "model.summary()"
   ]
  },
  {
   "cell_type": "code",
   "execution_count": 38,
   "metadata": {},
   "outputs": [],
   "source": [
    "x_train, x_test, y_train, y_test = model_selection.train_test_split(x_data, y_data, test_size = 0.33, stratify = y_data, random_state = 7)\n"
   ]
  },
  {
   "cell_type": "code",
   "execution_count": 39,
   "metadata": {},
   "outputs": [],
   "source": [
    "scaler = preprocessing.StandardScaler()\n",
    "scaler.fit(x_train)\n",
    "x_train = scaler.transform(x_train)\n",
    "x_test = scaler.transform(x_test)"
   ]
  },
  {
   "cell_type": "code",
   "execution_count": 40,
   "metadata": {},
   "outputs": [
    {
     "name": "stdout",
     "output_type": "stream",
     "text": [
      "Train on 8432 samples, validate on 3615 samples\n",
      "Epoch 1/18\n",
      "8432/8432 [==============================] - 10s 1ms/step - loss: 0.2605 - acc: 0.8755 - val_loss: 0.2374 - val_acc: 0.8918\n",
      "Epoch 2/18\n",
      "8432/8432 [==============================] - 7s 884us/step - loss: 0.2271 - acc: 0.8934 - val_loss: 0.2298 - val_acc: 0.8935\n",
      "Epoch 3/18\n",
      "8432/8432 [==============================] - 6s 749us/step - loss: 0.2226 - acc: 0.8946 - val_loss: 0.2315 - val_acc: 0.8950\n",
      "Epoch 4/18\n",
      "8432/8432 [==============================] - 7s 783us/step - loss: 0.2200 - acc: 0.8967 - val_loss: 0.2287 - val_acc: 0.8943\n",
      "Epoch 5/18\n",
      "8432/8432 [==============================] - 6s 725us/step - loss: 0.2166 - acc: 0.9001 - val_loss: 0.2306 - val_acc: 0.8916\n",
      "Epoch 6/18\n",
      "8432/8432 [==============================] - 7s 828us/step - loss: 0.2146 - acc: 0.9003 - val_loss: 0.2294 - val_acc: 0.8944\n",
      "Epoch 7/18\n",
      "8432/8432 [==============================] - 7s 812us/step - loss: 0.2135 - acc: 0.9006 - val_loss: 0.2365 - val_acc: 0.8934\n",
      "Epoch 8/18\n",
      "8432/8432 [==============================] - 7s 846us/step - loss: 0.2119 - acc: 0.9005 - val_loss: 0.2318 - val_acc: 0.8949\n",
      "Epoch 9/18\n",
      "8432/8432 [==============================] - 7s 870us/step - loss: 0.2090 - acc: 0.9018 - val_loss: 0.2300 - val_acc: 0.8934\n",
      "Epoch 10/18\n",
      "8432/8432 [==============================] - 7s 863us/step - loss: 0.2072 - acc: 0.9039 - val_loss: 0.2369 - val_acc: 0.8887\n",
      "Epoch 11/18\n",
      "8432/8432 [==============================] - 7s 795us/step - loss: 0.2061 - acc: 0.9046 - val_loss: 0.2309 - val_acc: 0.8938\n",
      "Epoch 12/18\n",
      "8432/8432 [==============================] - 6s 752us/step - loss: 0.2034 - acc: 0.9056 - val_loss: 0.2365 - val_acc: 0.8905\n",
      "Epoch 13/18\n",
      "8432/8432 [==============================] - 8s 960us/step - loss: 0.2019 - acc: 0.9062 - val_loss: 0.2305 - val_acc: 0.8935\n",
      "Epoch 14/18\n",
      "8432/8432 [==============================] - 7s 781us/step - loss: 0.1998 - acc: 0.9068 - val_loss: 0.2341 - val_acc: 0.8921\n",
      "Epoch 15/18\n",
      "8432/8432 [==============================] - 7s 823us/step - loss: 0.1974 - acc: 0.9090 - val_loss: 0.2388 - val_acc: 0.8888\n",
      "Epoch 16/18\n",
      "8432/8432 [==============================] - 6s 763us/step - loss: 0.1954 - acc: 0.9102 - val_loss: 0.2369 - val_acc: 0.8934\n",
      "Epoch 17/18\n",
      "8432/8432 [==============================] - 6s 750us/step - loss: 0.1929 - acc: 0.9124 - val_loss: 0.2376 - val_acc: 0.8938\n",
      "Epoch 18/18\n",
      "8432/8432 [==============================] - 7s 781us/step - loss: 0.1916 - acc: 0.9128 - val_loss: 0.2378 - val_acc: 0.8936\n"
     ]
    }
   ],
   "source": [
    "history = model.fit(x_train, y_train, epochs = 18, batch_size=16, verbose = 1, validation_split=0.3)"
   ]
  },
  {
   "cell_type": "code",
   "execution_count": null,
   "metadata": {},
   "outputs": [],
   "source": []
  },
  {
   "cell_type": "code",
   "execution_count": null,
   "metadata": {},
   "outputs": [],
   "source": []
  },
  {
   "cell_type": "code",
   "execution_count": 43,
   "metadata": {},
   "outputs": [
    {
     "name": "stdout",
     "output_type": "stream",
     "text": [
      "5934/5934 [==============================] - 1s 180us/step\n"
     ]
    }
   ],
   "source": [
    "test_loss, test_acc = model.evaluate(x_test, y_test)"
   ]
  },
  {
   "cell_type": "code",
   "execution_count": 44,
   "metadata": {},
   "outputs": [
    {
     "data": {
      "text/plain": [
       "0.23357570870962455"
      ]
     },
     "execution_count": 44,
     "metadata": {},
     "output_type": "execute_result"
    }
   ],
   "source": [
    "test_loss"
   ]
  },
  {
   "cell_type": "code",
   "execution_count": 45,
   "metadata": {},
   "outputs": [
    {
     "data": {
      "text/plain": [
       "0.89610717898874437"
      ]
     },
     "execution_count": 45,
     "metadata": {},
     "output_type": "execute_result"
    }
   ],
   "source": [
    "test_acc"
   ]
  },
  {
   "cell_type": "code",
   "execution_count": 46,
   "metadata": {},
   "outputs": [
    {
     "name": "stdout",
     "output_type": "stream",
     "text": [
      "12047/12047 [==============================] - 2s 191us/step\n"
     ]
    }
   ],
   "source": [
    "train_loss, train_acc = model.evaluate(x_train, y_train)"
   ]
  },
  {
   "cell_type": "code",
   "execution_count": 47,
   "metadata": {},
   "outputs": [
    {
     "data": {
      "text/plain": [
       "0.19836230394582369"
      ]
     },
     "execution_count": 47,
     "metadata": {},
     "output_type": "execute_result"
    }
   ],
   "source": [
    "train_loss"
   ]
  },
  {
   "cell_type": "code",
   "execution_count": 48,
   "metadata": {},
   "outputs": [
    {
     "data": {
      "text/plain": [
       "0.91217730556809284"
      ]
     },
     "execution_count": 48,
     "metadata": {},
     "output_type": "execute_result"
    }
   ],
   "source": [
    "train_acc"
   ]
  },
  {
   "cell_type": "code",
   "execution_count": null,
   "metadata": {},
   "outputs": [],
   "source": []
  }
 ],
 "metadata": {
  "kernelspec": {
   "display_name": "Python 3",
   "language": "python",
   "name": "python3"
  },
  "language_info": {
   "codemirror_mode": {
    "name": "ipython",
    "version": 3
   },
   "file_extension": ".py",
   "mimetype": "text/x-python",
   "name": "python",
   "nbconvert_exporter": "python",
   "pygments_lexer": "ipython3",
   "version": "3.6.4"
  }
 },
 "nbformat": 4,
 "nbformat_minor": 2
}
